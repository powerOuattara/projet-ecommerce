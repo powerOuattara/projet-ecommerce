{
 "cells": [
  {
   "cell_type": "code",
   "execution_count": 2,
   "id": "65c37672-913a-4090-9d8c-80f991d0e01f",
   "metadata": {},
   "outputs": [],
   "source": [
    "import pandas as pd\n",
    "from itertools import combinations\n",
    "from collections import Counter"
   ]
  },
  {
   "cell_type": "code",
   "execution_count": 3,
   "id": "03cad85c-73da-4854-ab5b-1192fd0720b1",
   "metadata": {},
   "outputs": [],
   "source": [
    "data = pd.read_csv('data.csv')"
   ]
  },
  {
   "cell_type": "code",
   "execution_count": 4,
   "id": "bb998c08-5eb9-445b-a98d-7c94a1095a86",
   "metadata": {},
   "outputs": [
    {
     "data": {
      "text/html": [
       "<div>\n",
       "<style scoped>\n",
       "    .dataframe tbody tr th:only-of-type {\n",
       "        vertical-align: middle;\n",
       "    }\n",
       "\n",
       "    .dataframe tbody tr th {\n",
       "        vertical-align: top;\n",
       "    }\n",
       "\n",
       "    .dataframe thead th {\n",
       "        text-align: right;\n",
       "    }\n",
       "</style>\n",
       "<table border=\"1\" class=\"dataframe\">\n",
       "  <thead>\n",
       "    <tr style=\"text-align: right;\">\n",
       "      <th></th>\n",
       "      <th>InvoiceNo</th>\n",
       "      <th>StockCode</th>\n",
       "      <th>Description</th>\n",
       "      <th>Quantity</th>\n",
       "      <th>InvoiceDate</th>\n",
       "      <th>UnitPrice</th>\n",
       "      <th>CustomerID</th>\n",
       "      <th>Country</th>\n",
       "    </tr>\n",
       "  </thead>\n",
       "  <tbody>\n",
       "    <tr>\n",
       "      <th>0</th>\n",
       "      <td>536365</td>\n",
       "      <td>85123A</td>\n",
       "      <td>WHITE HANGING HEART T-LIGHT HOLDER</td>\n",
       "      <td>6</td>\n",
       "      <td>12/1/2010 8:26</td>\n",
       "      <td>2.55</td>\n",
       "      <td>17850.0</td>\n",
       "      <td>United Kingdom</td>\n",
       "    </tr>\n",
       "    <tr>\n",
       "      <th>1</th>\n",
       "      <td>536365</td>\n",
       "      <td>71053</td>\n",
       "      <td>WHITE METAL LANTERN</td>\n",
       "      <td>6</td>\n",
       "      <td>12/1/2010 8:26</td>\n",
       "      <td>3.39</td>\n",
       "      <td>17850.0</td>\n",
       "      <td>United Kingdom</td>\n",
       "    </tr>\n",
       "    <tr>\n",
       "      <th>2</th>\n",
       "      <td>536365</td>\n",
       "      <td>84406B</td>\n",
       "      <td>CREAM CUPID HEARTS COAT HANGER</td>\n",
       "      <td>8</td>\n",
       "      <td>12/1/2010 8:26</td>\n",
       "      <td>2.75</td>\n",
       "      <td>17850.0</td>\n",
       "      <td>United Kingdom</td>\n",
       "    </tr>\n",
       "    <tr>\n",
       "      <th>3</th>\n",
       "      <td>536365</td>\n",
       "      <td>84029G</td>\n",
       "      <td>KNITTED UNION FLAG HOT WATER BOTTLE</td>\n",
       "      <td>6</td>\n",
       "      <td>12/1/2010 8:26</td>\n",
       "      <td>3.39</td>\n",
       "      <td>17850.0</td>\n",
       "      <td>United Kingdom</td>\n",
       "    </tr>\n",
       "    <tr>\n",
       "      <th>4</th>\n",
       "      <td>536365</td>\n",
       "      <td>84029E</td>\n",
       "      <td>RED WOOLLY HOTTIE WHITE HEART.</td>\n",
       "      <td>6</td>\n",
       "      <td>12/1/2010 8:26</td>\n",
       "      <td>3.39</td>\n",
       "      <td>17850.0</td>\n",
       "      <td>United Kingdom</td>\n",
       "    </tr>\n",
       "  </tbody>\n",
       "</table>\n",
       "</div>"
      ],
      "text/plain": [
       "  InvoiceNo StockCode                          Description  Quantity  \\\n",
       "0    536365    85123A   WHITE HANGING HEART T-LIGHT HOLDER         6   \n",
       "1    536365     71053                  WHITE METAL LANTERN         6   \n",
       "2    536365    84406B       CREAM CUPID HEARTS COAT HANGER         8   \n",
       "3    536365    84029G  KNITTED UNION FLAG HOT WATER BOTTLE         6   \n",
       "4    536365    84029E       RED WOOLLY HOTTIE WHITE HEART.         6   \n",
       "\n",
       "      InvoiceDate  UnitPrice  CustomerID         Country  \n",
       "0  12/1/2010 8:26       2.55     17850.0  United Kingdom  \n",
       "1  12/1/2010 8:26       3.39     17850.0  United Kingdom  \n",
       "2  12/1/2010 8:26       2.75     17850.0  United Kingdom  \n",
       "3  12/1/2010 8:26       3.39     17850.0  United Kingdom  \n",
       "4  12/1/2010 8:26       3.39     17850.0  United Kingdom  "
      ]
     },
     "execution_count": 4,
     "metadata": {},
     "output_type": "execute_result"
    }
   ],
   "source": [
    "data.head()"
   ]
  },
  {
   "cell_type": "code",
   "execution_count": 5,
   "id": "8992380f-118f-4e5a-890e-3d6a14d1e689",
   "metadata": {},
   "outputs": [
    {
     "data": {
      "text/html": [
       "<div>\n",
       "<style scoped>\n",
       "    .dataframe tbody tr th:only-of-type {\n",
       "        vertical-align: middle;\n",
       "    }\n",
       "\n",
       "    .dataframe tbody tr th {\n",
       "        vertical-align: top;\n",
       "    }\n",
       "\n",
       "    .dataframe thead th {\n",
       "        text-align: right;\n",
       "    }\n",
       "</style>\n",
       "<table border=\"1\" class=\"dataframe\">\n",
       "  <thead>\n",
       "    <tr style=\"text-align: right;\">\n",
       "      <th></th>\n",
       "      <th>InvoiceNo</th>\n",
       "      <th>StockCode</th>\n",
       "      <th>Description</th>\n",
       "      <th>Quantity</th>\n",
       "      <th>InvoiceDate</th>\n",
       "      <th>UnitPrice</th>\n",
       "      <th>CustomerID</th>\n",
       "      <th>Country</th>\n",
       "    </tr>\n",
       "  </thead>\n",
       "  <tbody>\n",
       "    <tr>\n",
       "      <th>541904</th>\n",
       "      <td>581587</td>\n",
       "      <td>22613</td>\n",
       "      <td>PACK OF 20 SPACEBOY NAPKINS</td>\n",
       "      <td>12</td>\n",
       "      <td>12/9/2011 12:50</td>\n",
       "      <td>0.85</td>\n",
       "      <td>12680.0</td>\n",
       "      <td>France</td>\n",
       "    </tr>\n",
       "    <tr>\n",
       "      <th>541905</th>\n",
       "      <td>581587</td>\n",
       "      <td>22899</td>\n",
       "      <td>CHILDREN'S APRON DOLLY GIRL</td>\n",
       "      <td>6</td>\n",
       "      <td>12/9/2011 12:50</td>\n",
       "      <td>2.10</td>\n",
       "      <td>12680.0</td>\n",
       "      <td>France</td>\n",
       "    </tr>\n",
       "    <tr>\n",
       "      <th>541906</th>\n",
       "      <td>581587</td>\n",
       "      <td>23254</td>\n",
       "      <td>CHILDRENS CUTLERY DOLLY GIRL</td>\n",
       "      <td>4</td>\n",
       "      <td>12/9/2011 12:50</td>\n",
       "      <td>4.15</td>\n",
       "      <td>12680.0</td>\n",
       "      <td>France</td>\n",
       "    </tr>\n",
       "    <tr>\n",
       "      <th>541907</th>\n",
       "      <td>581587</td>\n",
       "      <td>23255</td>\n",
       "      <td>CHILDRENS CUTLERY CIRCUS PARADE</td>\n",
       "      <td>4</td>\n",
       "      <td>12/9/2011 12:50</td>\n",
       "      <td>4.15</td>\n",
       "      <td>12680.0</td>\n",
       "      <td>France</td>\n",
       "    </tr>\n",
       "    <tr>\n",
       "      <th>541908</th>\n",
       "      <td>581587</td>\n",
       "      <td>22138</td>\n",
       "      <td>BAKING SET 9 PIECE RETROSPOT</td>\n",
       "      <td>3</td>\n",
       "      <td>12/9/2011 12:50</td>\n",
       "      <td>4.95</td>\n",
       "      <td>12680.0</td>\n",
       "      <td>France</td>\n",
       "    </tr>\n",
       "  </tbody>\n",
       "</table>\n",
       "</div>"
      ],
      "text/plain": [
       "       InvoiceNo StockCode                      Description  Quantity  \\\n",
       "541904    581587     22613      PACK OF 20 SPACEBOY NAPKINS        12   \n",
       "541905    581587     22899     CHILDREN'S APRON DOLLY GIRL          6   \n",
       "541906    581587     23254    CHILDRENS CUTLERY DOLLY GIRL          4   \n",
       "541907    581587     23255  CHILDRENS CUTLERY CIRCUS PARADE         4   \n",
       "541908    581587     22138    BAKING SET 9 PIECE RETROSPOT          3   \n",
       "\n",
       "            InvoiceDate  UnitPrice  CustomerID Country  \n",
       "541904  12/9/2011 12:50       0.85     12680.0  France  \n",
       "541905  12/9/2011 12:50       2.10     12680.0  France  \n",
       "541906  12/9/2011 12:50       4.15     12680.0  France  \n",
       "541907  12/9/2011 12:50       4.15     12680.0  France  \n",
       "541908  12/9/2011 12:50       4.95     12680.0  France  "
      ]
     },
     "execution_count": 5,
     "metadata": {},
     "output_type": "execute_result"
    }
   ],
   "source": [
    "data.tail()"
   ]
  },
  {
   "cell_type": "code",
   "execution_count": 6,
   "id": "9d442dff-73e5-451a-8e41-f5f14177d3d8",
   "metadata": {},
   "outputs": [
    {
     "data": {
      "text/html": [
       "<div>\n",
       "<style scoped>\n",
       "    .dataframe tbody tr th:only-of-type {\n",
       "        vertical-align: middle;\n",
       "    }\n",
       "\n",
       "    .dataframe tbody tr th {\n",
       "        vertical-align: top;\n",
       "    }\n",
       "\n",
       "    .dataframe thead th {\n",
       "        text-align: right;\n",
       "    }\n",
       "</style>\n",
       "<table border=\"1\" class=\"dataframe\">\n",
       "  <thead>\n",
       "    <tr style=\"text-align: right;\">\n",
       "      <th></th>\n",
       "      <th>Quantity</th>\n",
       "      <th>UnitPrice</th>\n",
       "      <th>CustomerID</th>\n",
       "    </tr>\n",
       "  </thead>\n",
       "  <tbody>\n",
       "    <tr>\n",
       "      <th>count</th>\n",
       "      <td>541909.000000</td>\n",
       "      <td>541909.000000</td>\n",
       "      <td>406829.000000</td>\n",
       "    </tr>\n",
       "    <tr>\n",
       "      <th>mean</th>\n",
       "      <td>9.552250</td>\n",
       "      <td>4.611114</td>\n",
       "      <td>15287.690570</td>\n",
       "    </tr>\n",
       "    <tr>\n",
       "      <th>std</th>\n",
       "      <td>218.081158</td>\n",
       "      <td>96.759853</td>\n",
       "      <td>1713.600303</td>\n",
       "    </tr>\n",
       "    <tr>\n",
       "      <th>min</th>\n",
       "      <td>-80995.000000</td>\n",
       "      <td>-11062.060000</td>\n",
       "      <td>12346.000000</td>\n",
       "    </tr>\n",
       "    <tr>\n",
       "      <th>25%</th>\n",
       "      <td>1.000000</td>\n",
       "      <td>1.250000</td>\n",
       "      <td>13953.000000</td>\n",
       "    </tr>\n",
       "    <tr>\n",
       "      <th>50%</th>\n",
       "      <td>3.000000</td>\n",
       "      <td>2.080000</td>\n",
       "      <td>15152.000000</td>\n",
       "    </tr>\n",
       "    <tr>\n",
       "      <th>75%</th>\n",
       "      <td>10.000000</td>\n",
       "      <td>4.130000</td>\n",
       "      <td>16791.000000</td>\n",
       "    </tr>\n",
       "    <tr>\n",
       "      <th>max</th>\n",
       "      <td>80995.000000</td>\n",
       "      <td>38970.000000</td>\n",
       "      <td>18287.000000</td>\n",
       "    </tr>\n",
       "  </tbody>\n",
       "</table>\n",
       "</div>"
      ],
      "text/plain": [
       "            Quantity      UnitPrice     CustomerID\n",
       "count  541909.000000  541909.000000  406829.000000\n",
       "mean        9.552250       4.611114   15287.690570\n",
       "std       218.081158      96.759853    1713.600303\n",
       "min    -80995.000000  -11062.060000   12346.000000\n",
       "25%         1.000000       1.250000   13953.000000\n",
       "50%         3.000000       2.080000   15152.000000\n",
       "75%        10.000000       4.130000   16791.000000\n",
       "max     80995.000000   38970.000000   18287.000000"
      ]
     },
     "execution_count": 6,
     "metadata": {},
     "output_type": "execute_result"
    }
   ],
   "source": [
    "data.describe()"
   ]
  },
  {
   "cell_type": "code",
   "execution_count": 7,
   "id": "4227d36c-09e1-4ce3-a2fb-4338b41eee46",
   "metadata": {},
   "outputs": [
    {
     "name": "stdout",
     "output_type": "stream",
     "text": [
      "<class 'pandas.core.frame.DataFrame'>\n",
      "RangeIndex: 541909 entries, 0 to 541908\n",
      "Data columns (total 8 columns):\n",
      " #   Column       Non-Null Count   Dtype  \n",
      "---  ------       --------------   -----  \n",
      " 0   InvoiceNo    541909 non-null  object \n",
      " 1   StockCode    541909 non-null  object \n",
      " 2   Description  540455 non-null  object \n",
      " 3   Quantity     541909 non-null  int64  \n",
      " 4   InvoiceDate  541909 non-null  object \n",
      " 5   UnitPrice    541909 non-null  float64\n",
      " 6   CustomerID   406829 non-null  float64\n",
      " 7   Country      541909 non-null  object \n",
      "dtypes: float64(2), int64(1), object(5)\n",
      "memory usage: 33.1+ MB\n"
     ]
    }
   ],
   "source": [
    "data.info()\n"
   ]
  },
  {
   "cell_type": "code",
   "execution_count": 8,
   "id": "d0ea67ad-9cdf-40a5-ae16-5981203469db",
   "metadata": {},
   "outputs": [
    {
     "data": {
      "text/plain": [
       "InvoiceNo           0\n",
       "StockCode           0\n",
       "Description      1454\n",
       "Quantity            0\n",
       "InvoiceDate         0\n",
       "UnitPrice           0\n",
       "CustomerID     135080\n",
       "Country             0\n",
       "dtype: int64"
      ]
     },
     "execution_count": 8,
     "metadata": {},
     "output_type": "execute_result"
    }
   ],
   "source": [
    "data.isnull().sum()"
   ]
  },
  {
   "cell_type": "code",
   "execution_count": 9,
   "id": "a2cb96e0-af6b-4684-9692-dbfd6fd2acee",
   "metadata": {},
   "outputs": [],
   "source": [
    "data = data.dropna(subset=['Description'])"
   ]
  },
  {
   "cell_type": "code",
   "execution_count": 10,
   "id": "588db493-19fb-4e41-8de0-c77e00e2ffeb",
   "metadata": {},
   "outputs": [],
   "source": [
    "data=data.dropna(subset=['CustomerID'])"
   ]
  },
  {
   "cell_type": "code",
   "execution_count": 11,
   "id": "4ffae4b7-bdd6-4b9e-96bf-3bb058c3e57f",
   "metadata": {},
   "outputs": [
    {
     "name": "stdout",
     "output_type": "stream",
     "text": [
      "<class 'pandas.core.frame.DataFrame'>\n",
      "Index: 406829 entries, 0 to 541908\n",
      "Data columns (total 8 columns):\n",
      " #   Column       Non-Null Count   Dtype  \n",
      "---  ------       --------------   -----  \n",
      " 0   InvoiceNo    406829 non-null  object \n",
      " 1   StockCode    406829 non-null  object \n",
      " 2   Description  406829 non-null  object \n",
      " 3   Quantity     406829 non-null  int64  \n",
      " 4   InvoiceDate  406829 non-null  object \n",
      " 5   UnitPrice    406829 non-null  float64\n",
      " 6   CustomerID   406829 non-null  float64\n",
      " 7   Country      406829 non-null  object \n",
      "dtypes: float64(2), int64(1), object(5)\n",
      "memory usage: 27.9+ MB\n"
     ]
    }
   ],
   "source": [
    "data.info()"
   ]
  },
  {
   "cell_type": "code",
   "execution_count": 12,
   "id": "8e7cca7b-5d27-4afe-bf15-a39d7833e070",
   "metadata": {},
   "outputs": [
    {
     "data": {
      "text/plain": [
       "InvoiceNo      0\n",
       "StockCode      0\n",
       "Description    0\n",
       "Quantity       0\n",
       "InvoiceDate    0\n",
       "UnitPrice      0\n",
       "CustomerID     0\n",
       "Country        0\n",
       "dtype: int64"
      ]
     },
     "execution_count": 12,
     "metadata": {},
     "output_type": "execute_result"
    }
   ],
   "source": [
    "data.isnull().sum()"
   ]
  },
  {
   "cell_type": "code",
   "execution_count": 13,
   "id": "372ff139-a562-4741-b3b6-c9e3d82e5f0f",
   "metadata": {},
   "outputs": [],
   "source": [
    "data=data.drop_duplicates()"
   ]
  },
  {
   "cell_type": "code",
   "execution_count": 14,
   "id": "d9ef2384-d113-4567-83a1-31eb91c49a4a",
   "metadata": {},
   "outputs": [],
   "source": [
    "data.loc[:,'UnitPrice']=data['UnitPrice'].fillna(0)"
   ]
  },
  {
   "cell_type": "code",
   "execution_count": 15,
   "id": "6283ee1a-dfee-4a6b-afcc-904b1ed2b255",
   "metadata": {},
   "outputs": [],
   "source": [
    "data.loc[:,'InvoiceDate']=pd.to_datetime(data['InvoiceDate'],errors='coerce')"
   ]
  },
  {
   "cell_type": "code",
   "execution_count": 16,
   "id": "9a16ce48-0743-44ad-bb2a-9c66226588bf",
   "metadata": {},
   "outputs": [],
   "source": [
    "data.loc[:,'InvoiceDate']=data.dropna(subset=['InvoiceDate'])"
   ]
  },
  {
   "cell_type": "code",
   "execution_count": 17,
   "id": "1d8a68df-d299-4aa3-bd51-b642f7d933ca",
   "metadata": {},
   "outputs": [],
   "source": [
    "data['CA']=data['UnitPrice']*data['Quantity']"
   ]
  },
  {
   "cell_type": "code",
   "execution_count": 18,
   "id": "816b61d9-0e3e-4c4e-92de-b561ad9e1470",
   "metadata": {},
   "outputs": [],
   "source": [
    "CA_par_pays=data.groupby('Country')['CA'].sum()"
   ]
  },
  {
   "cell_type": "code",
   "execution_count": 19,
   "id": "283384cf-b6cd-4eda-a7fc-89716325107b",
   "metadata": {},
   "outputs": [],
   "source": [
    "best_seller=data.groupby('InvoiceNo')['Quantity'].sum().head()"
   ]
  },
  {
   "cell_type": "code",
   "execution_count": 20,
   "id": "7bc9bdca-7812-48d2-a879-bb333f821fce",
   "metadata": {},
   "outputs": [],
   "source": [
    "client_unique=data['CustomerID'].nunique()"
   ]
  },
  {
   "cell_type": "code",
   "execution_count": 21,
   "id": "edf427f3-6ff3-44cd-849c-7e769b764de6",
   "metadata": {},
   "outputs": [
    {
     "name": "stdout",
     "output_type": "stream",
     "text": [
      "4372\n"
     ]
    }
   ],
   "source": [
    "print(client_unique)"
   ]
  },
  {
   "cell_type": "code",
   "execution_count": 22,
   "id": "5a81acc1-a3e3-4231-8ecf-afdc5a545dd3",
   "metadata": {},
   "outputs": [],
   "source": [
    "panier_moyen=data.groupby('InvoiceNo')['CA'].mean()"
   ]
  },
  {
   "cell_type": "code",
   "execution_count": 23,
   "id": "4eb52b07-72d2-4c76-ad19-89335e4368ac",
   "metadata": {},
   "outputs": [
    {
     "name": "stdout",
     "output_type": "stream",
     "text": [
      "InvoiceNo\n",
      "536365         19.874286\n",
      "536366         11.100000\n",
      "536367         23.227500\n",
      "536368         17.512500\n",
      "536369         17.850000\n",
      "               ...      \n",
      "C581484   -168469.600000\n",
      "C581490       -16.265000\n",
      "C581499      -224.690000\n",
      "C581568       -54.750000\n",
      "C581569        -3.750000\n",
      "Name: CA, Length: 22190, dtype: float64\n"
     ]
    }
   ],
   "source": [
    "print(panier_moyen)"
   ]
  },
  {
   "cell_type": "code",
   "execution_count": 24,
   "id": "28f7f2a6-fa71-423d-a1da-443198f152be",
   "metadata": {},
   "outputs": [],
   "source": [
    "panier_median=data.groupby('InvoiceNo')['CA'].median()"
   ]
  },
  {
   "cell_type": "code",
   "execution_count": 25,
   "id": "e1c07900-9847-4199-9a95-d7aa67f6a7d8",
   "metadata": {},
   "outputs": [
    {
     "name": "stdout",
     "output_type": "stream",
     "text": [
      "InvoiceNo\n",
      "536365         20.340\n",
      "536366         11.100\n",
      "536367         18.875\n",
      "536368         14.850\n",
      "536369         17.850\n",
      "              ...    \n",
      "C581484   -168469.600\n",
      "C581490       -16.265\n",
      "C581499      -224.690\n",
      "C581568       -54.750\n",
      "C581569        -3.750\n",
      "Name: CA, Length: 22190, dtype: float64\n"
     ]
    }
   ],
   "source": [
    "print(panier_median)"
   ]
  },
  {
   "cell_type": "code",
   "execution_count": 26,
   "id": "d9a6114b-47f0-46f9-a245-e338e3b437b7",
   "metadata": {},
   "outputs": [],
   "source": [
    "#client ayant acheter un seul produit\n",
    "client_1produit=data.groupby('CustomerID')['InvoiceNo'].nunique()"
   ]
  },
  {
   "cell_type": "code",
   "execution_count": 27,
   "id": "960394d6-f148-4462-a7ce-255e121e7a0e",
   "metadata": {},
   "outputs": [
    {
     "name": "stdout",
     "output_type": "stream",
     "text": [
      "CustomerID\n",
      "12346.0     2\n",
      "12347.0     7\n",
      "12348.0     4\n",
      "12349.0     1\n",
      "12350.0     1\n",
      "           ..\n",
      "18280.0     1\n",
      "18281.0     1\n",
      "18282.0     3\n",
      "18283.0    16\n",
      "18287.0     3\n",
      "Name: InvoiceNo, Length: 4372, dtype: int64\n"
     ]
    }
   ],
   "source": [
    "print(client_1produit)"
   ]
  },
  {
   "cell_type": "code",
   "execution_count": 28,
   "id": "d6a15200-6a76-4695-b5b0-358f28475585",
   "metadata": {},
   "outputs": [],
   "source": [
    "produit_unique=data.groupby('InvoiceNo')['StockCode'].agg(list)"
   ]
  },
  {
   "cell_type": "code",
   "execution_count": 49,
   "id": "c81cc7f3-b985-4b6c-927a-cf7502091070",
   "metadata": {},
   "outputs": [],
   "source": [
    "frequent_acheter_ensemble=produit_unique.apply(lambda x:combinations(set(x),2))"
   ]
  },
  {
   "cell_type": "code",
   "execution_count": 50,
   "id": "75d75cca-f996-4fa5-9e70-17416e4a38f8",
   "metadata": {},
   "outputs": [],
   "source": [
    "paires_frequentes = pd.Series([pair for sublist in frequent_acheter_ensemble for pair in sublist]).value_counts().head(5)\n"
   ]
  },
  {
   "cell_type": "code",
   "execution_count": 31,
   "id": "a01743ef-af2c-4b7e-aa8d-99f8b663ca07",
   "metadata": {},
   "outputs": [],
   "source": [
    "client_fidele=data.groupby('CustomerID')['InvoiceDate'].nunique().sort_values(ascending=False).head()"
   ]
  },
  {
   "cell_type": "code",
   "execution_count": 32,
   "id": "8f47c9ae-dfc4-49eb-a089-321077046abc",
   "metadata": {},
   "outputs": [
    {
     "name": "stdout",
     "output_type": "stream",
     "text": [
      "CustomerID\n",
      "14911.0    248\n",
      "12748.0    225\n",
      "17841.0    168\n",
      "14606.0    129\n",
      "15311.0    118\n",
      "Name: InvoiceDate, dtype: int64\n"
     ]
    }
   ],
   "source": [
    "print(client_fidele)"
   ]
  },
  {
   "cell_type": "code",
   "execution_count": 33,
   "id": "9411e70b-d277-4c7f-9061-bcd9e178ae96",
   "metadata": {},
   "outputs": [],
   "source": [
    "client_actif=data.groupby('CustomerID')['InvoiceNo'].apply(lambda x : x.nunique()).sort_values(ascending=False).head(1)"
   ]
  },
  {
   "cell_type": "code",
   "execution_count": 34,
   "id": "d6707d72-2b4b-4d74-94b7-2711a54ac0e7",
   "metadata": {},
   "outputs": [
    {
     "name": "stdout",
     "output_type": "stream",
     "text": [
      "CustomerID\n",
      "14911.0    248\n",
      "Name: InvoiceNo, dtype: int64\n"
     ]
    }
   ],
   "source": [
    "print(client_actif)"
   ]
  },
  {
   "cell_type": "code",
   "execution_count": 35,
   "id": "3b22ae22-ae91-4fbd-ac1a-9097490dc214",
   "metadata": {},
   "outputs": [],
   "source": [
    "nb_my_article=data.groupby('CustomerID')['StockCode'].nunique().sum()"
   ]
  },
  {
   "cell_type": "code",
   "execution_count": 36,
   "id": "2191b11b-8a83-46be-8bbe-d285f8fac0f6",
   "metadata": {},
   "outputs": [
    {
     "name": "stdout",
     "output_type": "stream",
     "text": [
      "267615\n"
     ]
    }
   ],
   "source": [
    "print(nb_my_article)"
   ]
  },
  {
   "cell_type": "code",
   "execution_count": 52,
   "id": "976f5bf5-f238-45ef-8f4a-339e25da6b66",
   "metadata": {},
   "outputs": [],
   "source": [
    "article_chere=data['UnitPrice'].max()"
   ]
  },
  {
   "cell_type": "code",
   "execution_count": 53,
   "id": "3149d248-40ea-49cd-82e2-ad0198695a87",
   "metadata": {},
   "outputs": [
    {
     "name": "stdout",
     "output_type": "stream",
     "text": [
      "38970.0\n"
     ]
    }
   ],
   "source": [
    "print(article_chere)"
   ]
  },
  {
   "cell_type": "code",
   "execution_count": 39,
   "id": "8a4ecff1-f56f-4f39-8a1b-3adde46df228",
   "metadata": {},
   "outputs": [
    {
     "name": "stdout",
     "output_type": "stream",
     "text": [
      "Nombre de retours trouvés : 0\n"
     ]
    }
   ],
   "source": [
    "# Si InvoiceNo est numérique (et les retours sont négatifs)\n",
    "retours = data[pd.to_numeric(data['InvoiceNo'], errors='coerce') < 0]\n",
    "\n",
    "# Vérification\n",
    "print(f\"Nombre de retours trouvés : {len(retours)}\")\n"
   ]
  },
  {
   "cell_type": "code",
   "execution_count": 40,
   "id": "ccb9381e-c49d-44a3-8fbd-a162b8f1e673",
   "metadata": {},
   "outputs": [
    {
     "name": "stdout",
     "output_type": "stream",
     "text": [
      "Empty DataFrame\n",
      "Columns: [InvoiceNo, StockCode, Description, Quantity, InvoiceDate, UnitPrice, CustomerID, Country, CA]\n",
      "Index: []\n"
     ]
    }
   ],
   "source": [
    "print(retours)"
   ]
  },
  {
   "cell_type": "code",
   "execution_count": 41,
   "id": "331ad5d0-78e5-40d9-b471-84ede8eae23c",
   "metadata": {},
   "outputs": [
    {
     "name": "stderr",
     "output_type": "stream",
     "text": [
      "C:\\Users\\Ce pc\\AppData\\Local\\Programs\\Python\\Python313\\Lib\\site-packages\\pandas\\core\\groupby\\grouper.py:381: FutureWarning: Dtype inference on a pandas object (Series, Index, ExtensionArray) is deprecated. The Index constructor will keep the original dtype in the future. Call `infer_objects` on the result to get the old behavior.\n",
      "  ax = Index(obj[key], name=key)\n"
     ]
    },
    {
     "name": "stdout",
     "output_type": "stream",
     "text": [
      "InvoiceDate\n",
      "2010-12-31     552372.860\n",
      "2011-01-31     473731.900\n",
      "2011-02-28     435534.070\n",
      "2011-03-31     578576.210\n",
      "2011-04-30     425222.671\n",
      "2011-05-31     647011.670\n",
      "2011-06-30     606862.520\n",
      "2011-07-31     573112.321\n",
      "2011-08-31     615078.090\n",
      "2011-09-30     929356.232\n",
      "2011-10-31     973306.380\n",
      "2011-11-30    1126815.070\n",
      "2011-12-31     341539.430\n",
      "Freq: ME, Name: CA, dtype: float64\n"
     ]
    }
   ],
   "source": [
    "ca_mensuel = data.resample('ME', on='InvoiceDate')['CA'].sum()\n",
    "print(ca_mensuel)"
   ]
  },
  {
   "cell_type": "code",
   "execution_count": 42,
   "id": "8c66e0b4-90db-4295-93b0-b71e68cad8b6",
   "metadata": {},
   "outputs": [],
   "source": [
    "ca_commandes = data.groupby(['Country', 'InvoiceNo'])['CA'].sum()"
   ]
  },
  {
   "cell_type": "code",
   "execution_count": 43,
   "id": "ca7c0568-c51b-42bd-8eef-0434c9a6e301",
   "metadata": {},
   "outputs": [
    {
     "name": "stdout",
     "output_type": "stream",
     "text": [
      "Country      InvoiceNo\n",
      "Australia    536389        358.25\n",
      "             537676        258.90\n",
      "             539419        348.20\n",
      "             540267       7011.38\n",
      "             540280        143.00\n",
      "                           ...   \n",
      "Unspecified  559929        252.05\n",
      "             561658        344.80\n",
      "             561661        195.33\n",
      "             563947        252.90\n",
      "             564051        278.13\n",
      "Name: CA, Length: 22190, dtype: float64\n"
     ]
    }
   ],
   "source": [
    "print(ca_commandes)"
   ]
  },
  {
   "cell_type": "code",
   "execution_count": 44,
   "id": "38883301-2828-452f-92a0-3f6b8dd07a36",
   "metadata": {},
   "outputs": [
    {
     "name": "stdout",
     "output_type": "stream",
     "text": [
      "Country\n",
      "Australia               1985.65\n",
      "Austria                  534.44\n",
      "Bahrain                  274.20\n",
      "Belgium                  343.79\n",
      "Brazil                  1143.60\n",
      "Canada                   611.06\n",
      "Channel Islands          608.38\n",
      "Cyprus                   642.94\n",
      "Czech Republic           141.54\n",
      "Denmark                  893.72\n",
      "EIRE                     783.70\n",
      "European Community       258.35\n",
      "Finland                  465.14\n",
      "France                   429.31\n",
      "Germany                  367.35\n",
      "Greece                   785.09\n",
      "Iceland                  615.71\n",
      "Israel                  1164.73\n",
      "Italy                    307.10\n",
      "Japan                   1262.16\n",
      "Lebanon                 1693.88\n",
      "Lithuania                415.26\n",
      "Malta                    250.55\n",
      "Netherlands             2818.43\n",
      "Norway                   879.09\n",
      "Poland                   300.55\n",
      "Portugal                 414.23\n",
      "RSA                     1002.31\n",
      "Saudi Arabia              65.58\n",
      "Singapore                912.04\n",
      "Spain                    521.49\n",
      "Sweden                   795.34\n",
      "Switzerland              785.06\n",
      "USA                      247.27\n",
      "United Arab Emirates     634.09\n",
      "United Kingdom           339.79\n",
      "Unspecified              332.60\n",
      "Name: CA, dtype: float64\n"
     ]
    }
   ],
   "source": [
    "\n",
    "data['CA'] = data['Quantity'] * data['UnitPrice']\n",
    "\n",
    "\n",
    "ca_par_commande = data.groupby(['Country', 'InvoiceNo'])['CA'].sum().reset_index()\n",
    "\n",
    "\n",
    "panier_moyen_par_pays = ca_par_commande.groupby('Country')['CA'].mean().round(2)\n",
    "\n",
    "print(panier_moyen_par_pays)"
   ]
  },
  {
   "cell_type": "code",
   "execution_count": 54,
   "id": "1ff4867e-f43f-4ebd-bb3a-ceb188823d1d",
   "metadata": {},
   "outputs": [
    {
     "name": "stdout",
     "output_type": "stream",
     "text": [
      "           total_articles  montant_total\n",
      "InvoiceNo                               \n",
      "536365                 40         139.12\n",
      "536366                 12          22.20\n",
      "536367                 83         278.73\n",
      "536368                 15          70.05\n",
      "536369                  3          17.85\n",
      "Corrélation entre articles/commande et montant : 0.91\n"
     ]
    }
   ],
   "source": [
    "# correlation totale article et montant totale\n",
    "commandes = data.groupby('InvoiceNo').agg(\n",
    "    total_articles=('Quantity', 'sum'),\n",
    "    montant_total=('CA', 'sum')\n",
    ")\n",
    "\n",
    "print(commandes.head())\n",
    "correlation = commandes['total_articles'].corr(commandes['montant_total'])\n",
    "print(f\"Corrélation entre articles/commande et montant : {correlation:.2f}\")"
   ]
  },
  {
   "cell_type": "code",
   "execution_count": 46,
   "id": "bf7a44d2-aff9-432a-840d-aecf6b0d882c",
   "metadata": {},
   "outputs": [
    {
     "name": "stdout",
     "output_type": "stream",
     "text": [
      "<class 'pandas.core.frame.DataFrame'>\n",
      "Index: 401604 entries, 0 to 541908\n",
      "Data columns (total 9 columns):\n",
      " #   Column       Non-Null Count   Dtype  \n",
      "---  ------       --------------   -----  \n",
      " 0   InvoiceNo    401604 non-null  object \n",
      " 1   StockCode    401604 non-null  object \n",
      " 2   Description  401604 non-null  object \n",
      " 3   Quantity     401604 non-null  int64  \n",
      " 4   InvoiceDate  401604 non-null  object \n",
      " 5   UnitPrice    401604 non-null  float64\n",
      " 6   CustomerID   401604 non-null  float64\n",
      " 7   Country      401604 non-null  object \n",
      " 8   CA           401604 non-null  float64\n",
      "dtypes: float64(3), int64(1), object(5)\n",
      "memory usage: 30.6+ MB\n"
     ]
    }
   ],
   "source": [
    "data.info()"
   ]
  },
  {
   "cell_type": "code",
   "execution_count": 61,
   "id": "87bdda42-f0e5-45c9-8c89-fc6b798143fd",
   "metadata": {},
   "outputs": [
    {
     "name": "stdout",
     "output_type": "stream",
     "text": [
      "69.967978042086\n"
     ]
    }
   ],
   "source": [
    "#taux de retention\n",
    "# commande par client\n",
    "commande=data.groupby('CustomerID')['InvoiceNo'].nunique()\n",
    "nombre_client=len(commande)\n",
    "client_recurent=sum(commande>1)\n",
    "retention=(client_recurent/nombre_client)*100\n",
    "print(retention)"
   ]
  },
  {
   "cell_type": "code",
   "execution_count": null,
   "id": "01578ae4-9cba-4613-b426-2183aa05fba6",
   "metadata": {},
   "outputs": [],
   "source": [
    "delais = data.groupby('CustomerID')['InvoiceDate'].apply(\n",
    "    lambda x: x.sort_values().diff().dt.days.mean() if len(x) > 1 else None\n",
    ")"
   ]
  },
  {
   "cell_type": "code",
   "execution_count": 63,
   "id": "fc26aafb-8b82-48f6-abb8-bce6cbd2d6e6",
   "metadata": {},
   "outputs": [
    {
     "name": "stdout",
     "output_type": "stream",
     "text": [
      "             CA_total  nb_transactions\n",
      "CustomerID                            \n",
      "14646.0     280206.02             2076\n",
      "18102.0     259657.30              431\n",
      "17450.0     194390.79              336\n",
      "16446.0     168472.50                3\n",
      "14911.0     143711.17             5670\n",
      "12415.0     124914.53              714\n",
      "14156.0     117210.08             1395\n",
      "17511.0      91062.38              963\n",
      "16029.0      80850.84              241\n",
      "12346.0      77183.60                1\n",
      "16684.0      66653.56              277\n"
     ]
    }
   ],
   "source": [
    "data_valid = data[(data['Quantity'] > 0) & (data['UnitPrice'] > 0)].copy()\n",
    "data_valid['CA'] = data_valid['Quantity'] * data_valid['UnitPrice']\n",
    "\n",
    "best_clients = data_valid.groupby('CustomerID')['CA'].agg(['sum', 'count']).rename(columns={'sum': 'CA_total', 'count': 'nb_transactions'}).sort_values('CA_total', ascending=False).head(11)\n",
    "print(best_clients)"
   ]
  },
  {
   "cell_type": "code",
   "execution_count": 64,
   "id": "7fe3f6e2-5860-42ab-a120-26b95506c1b2",
   "metadata": {},
   "outputs": [
    {
     "name": "stdout",
     "output_type": "stream",
     "text": [
      "30.032021957913997\n"
     ]
    }
   ],
   "source": [
    "transactions_par_client = data.groupby('CustomerID')['InvoiceNo'].nunique()\n",
    "clients_1_transaction = sum(transactions_par_client == 1)\n",
    "total_clients = len(transactions_par_client)\n",
    "pourcentage = (clients_1_transaction / total_clients) * 100\n",
    "print(pourcentage)"
   ]
  },
  {
   "cell_type": "code",
   "execution_count": 65,
   "id": "be18b5bd-673a-43ad-bc8f-4ab507feed87",
   "metadata": {},
   "outputs": [
    {
     "name": "stdout",
     "output_type": "stream",
     "text": [
      "StockCode  Description                       \n",
      "23843      PAPER CRAFT , LITTLE BIRDIE           168469.60\n",
      "22423      REGENCY CAKESTAND 3 TIER              142264.75\n",
      "85123A     WHITE HANGING HEART T-LIGHT HOLDER    100392.10\n",
      "85099B     JUMBO BAG RED RETROSPOT                85040.54\n",
      "23166      MEDIUM CERAMIC TOP STORAGE JAR         81416.73\n",
      "POST       POSTAGE                                77803.96\n",
      "47566      PARTY BUNTING                          68785.23\n",
      "84879      ASSORTED COLOUR BIRD ORNAMENT          56413.03\n",
      "M          Manual                                 53419.93\n",
      "23084      RABBIT NIGHT LIGHT                     51251.24\n",
      "Name: CA, dtype: float64\n"
     ]
    }
   ],
   "source": [
    "data_clean=data[(data['Quantity']>0) & (data['UnitPrice'] >0)].copy()\n",
    "data_clean['CA']=data_clean['Quantity']*data_clean['UnitPrice']\n",
    "produit_rentable=data_clean.groupby(['StockCode','Description'])['CA'].sum().sort_values(ascending=False).head(10)\n",
    "print(produit_rentable)"
   ]
  },
  {
   "cell_type": "code",
   "execution_count": 66,
   "id": "ca5681db-d0d4-4ec1-8661-f95e38de781f",
   "metadata": {},
   "outputs": [
    {
     "name": "stdout",
     "output_type": "stream",
     "text": [
      "8872\n"
     ]
    }
   ],
   "source": [
    "#les retours\n",
    "retour=data[data['Quantity']<0].copy()\n",
    "print(len(retour))"
   ]
  },
  {
   "cell_type": "code",
   "execution_count": 67,
   "id": "790f5a99-a3c0-44f7-b9a0-f4c8fa5fffac",
   "metadata": {},
   "outputs": [
    {
     "name": "stdout",
     "output_type": "stream",
     "text": [
      "(22386, 85099B)    549\n",
      "(20725, 20727)     509\n",
      "(22384, 20727)     467\n",
      "(23300, 23301)     464\n",
      "(22383, 20727)     456\n",
      "Name: count, dtype: int64\n"
     ]
    }
   ],
   "source": [
    "\n",
    "produit_ensemble=data.groupby(\"InvoiceNo\")[\"StockCode\"].agg(list)\n",
    "prod_en_nettoyer=produit_ensemble.apply(lambda x:combinations(set(x),2))\n",
    "paires_frequentes = pd.Series([pair for sublist in prod_en_nettoyer for pair in sublist]).value_counts().head(5)\n",
    "print(paires_frequentes)"
   ]
  },
  {
   "cell_type": "code",
   "execution_count": null,
   "id": "85671381-28fc-48fb-9b21-91bebcd17a42",
   "metadata": {},
   "outputs": [],
   "source": [
    "import pandas as pd\n",
    "from datetime import datetime\n",
    "\n",
    "# RFM\n",
    "df_clean = data[(data['Quantity'] > 0) & (data['UnitPrice'] > 0)].copy()\n",
    "df_clean['CA'] = df_clean['Quantity'] * df_clean['UnitPrice']\n",
    "\n",
    "# Convertir la date en datetime\n",
    "df_clean['InvoiceDate'] = pd.to_datetime(df_clean['InvoiceDate'])\n",
    "\n",
    "now=datetime.now()\n",
    "\n",
    "rfm=data_clean.groupby('CustomerID').agg(Recency=('InvoiceDate', lambda x: (now - x.max()).days),\n",
    "    Frequency=('InvoiceNo','nunique'),\n",
    "    Monetary=('CA','sum'))\n",
    "\n",
    "rfm['Segment']='Occasionnel'\n",
    "\n",
    "rfm.loc[\n",
    "    (rfm['Recency'] < 30) & \n",
    "    (rfm['Frequency'] > 5) & \n",
    "    (rfm['Monetary'] > 500), 'Segment'\n",
    "] = 'VIP'\n",
    "\n",
    "rfm.loc[\n",
    "        (rfm['Recency'] < 60) & \n",
    "        (rfm['Frequency'] > 2)  \n",
    "                    ,'Segment']='REGULIER'\n",
    "\n",
    "rfm.loc[(rfm['Recency']>90) \n",
    "       ,'Segment']='À risque'"
   ]
  },
  {
   "cell_type": "code",
   "execution_count": null,
   "id": "0965be60-6d61-4731-a004-f0222124a0f8",
   "metadata": {},
   "outputs": [],
   "source": []
  },
  {
   "cell_type": "code",
   "execution_count": null,
   "id": "bf9e7f9f-e81f-44a2-98d4-9850c8e69703",
   "metadata": {},
   "outputs": [],
   "source": []
  },
  {
   "cell_type": "code",
   "execution_count": null,
   "id": "3b133d05-a7ea-4d09-8d81-f5ed26726656",
   "metadata": {},
   "outputs": [],
   "source": []
  },
  {
   "cell_type": "code",
   "execution_count": null,
   "id": "00118ed1-a54a-45db-b9af-886011f44bb9",
   "metadata": {},
   "outputs": [],
   "source": []
  },
  {
   "cell_type": "code",
   "execution_count": null,
   "id": "b1587f94-357d-4368-b9e2-6692fdaa721f",
   "metadata": {},
   "outputs": [],
   "source": []
  }
 ],
 "metadata": {
  "kernelspec": {
   "display_name": "Python 3 (ipykernel)",
   "language": "python",
   "name": "python3"
  },
  "language_info": {
   "codemirror_mode": {
    "name": "ipython",
    "version": 3
   },
   "file_extension": ".py",
   "mimetype": "text/x-python",
   "name": "python",
   "nbconvert_exporter": "python",
   "pygments_lexer": "ipython3",
   "version": "3.13.0"
  }
 },
 "nbformat": 4,
 "nbformat_minor": 5
}
